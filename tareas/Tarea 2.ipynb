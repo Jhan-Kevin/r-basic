{
 "cells": [
  {
   "cell_type": "markdown",
   "metadata": {},
   "source": [
    "1. Escribe una secuencia de instrucciones que permitan leer un número real por pantalla y que muestre si el número es positivo o no"
   ]
  },
  {
   "cell_type": "code",
   "execution_count": 31,
   "metadata": {},
   "outputs": [
    {
     "name": "stdout",
     "output_type": "stream",
     "text": [
      "Ingrese un numero: 80\n",
      "El número 80.0 es positivo\n"
     ]
    }
   ],
   "source": [
    "n = float(input('Ingrese un numero: '))\n",
    "\n",
    "if n > 0:\n",
    "    print('El número', n, 'es positivo')\n",
    "elif n < 0:\n",
    "    print('El número', n, 'es negativo')\n",
    "else:\n",
    "    print('El número', n, 'es neutro')"
   ]
  },
  {
   "cell_type": "markdown",
   "metadata": {},
   "source": [
    "2. Escribe una secuencia de instrucciones que permitan leer un número real por pantalla y que muestre si el número está en el rango entre -5 y 5"
   ]
  },
  {
   "cell_type": "code",
   "execution_count": 29,
   "metadata": {},
   "outputs": [
    {
     "name": "stdout",
     "output_type": "stream",
     "text": [
      "Ingrese un numero: 3.65\n",
      "El número 3.65 se encuentra dentro del rango (-5,5)\n"
     ]
    }
   ],
   "source": [
    "n = float(input('Ingrese un numero: '))\n",
    "\n",
    "if n > -5 and n < 5:\n",
    "    print('El número', n, 'se encuentra dentro del rango (-5,5)')\n",
    "else:\n",
    "    print('El número', n, 'no se encuentra dentro del rango (-5,5)')"
   ]
  },
  {
   "cell_type": "markdown",
   "metadata": {},
   "source": [
    "3. Escribe una secuencia de instrucciones que permitan leer las coordenadas de un punto (x, y) e indique en cuál de los cuatro cuadrantes se encuentra dicho punto."
   ]
  },
  {
   "cell_type": "code",
   "execution_count": 28,
   "metadata": {},
   "outputs": [
    {
     "name": "stdout",
     "output_type": "stream",
     "text": [
      "Ingrese la coordenada X: 5.6\n",
      "Ingrese la coordenada Y: 6.3\n",
      "La coordenada (5,6) se encuentra en el primer cuadrante\n"
     ]
    }
   ],
   "source": [
    "x = float(input('Ingrese la coordenada X: '))\n",
    "y = float(input('Ingrese la coordenada Y: '))\n",
    "\n",
    "if x > 0 and y > 0:\n",
    "    print('La coordenada (%d,%d) se encuentra en el primer cuadrante' %(x,y))\n",
    "elif x < 0 and y > 0:\n",
    "    print('La coordenada (%d,%d) se encuentra en el segundo cuadrante' %(x,y))\n",
    "elif x < 0 and y < 0:\n",
    "    print('La coordenada (%d,%d) se encuentra en el tercer cuadrante' %(x,y))\n",
    "elif x > 0 and y < 0:\n",
    "    print('La coordenada (%d,%d) se encuentra en el cuarto cuadrante' %(x,y))\n",
    "else:\n",
    "    print('Como diría Diomedez: no se, si lo supiera te lo diría pero no se, no...')"
   ]
  },
  {
   "cell_type": "markdown",
   "metadata": {},
   "source": [
    "4. Escribe una secuencia de instrucciones que permitan leer dos números enteros y muestre el cociente de la división entera y el resto."
   ]
  },
  {
   "cell_type": "code",
   "execution_count": 34,
   "metadata": {},
   "outputs": [
    {
     "name": "stdout",
     "output_type": "stream",
     "text": [
      "Ingrese el numerador: 3\n",
      "Ingrese el denominador: 6\n",
      "El cociente de la división entera es 0.0 y el residuo es 3.0\n"
     ]
    }
   ],
   "source": [
    "n = float(input('Ingrese el numerador: '))\n",
    "d = float(input('Ingrese el denominador: '))\n",
    "\n",
    "print('El cociente de la división entera es', n//d, 'y el residuo es', n%d)\n"
   ]
  },
  {
   "cell_type": "markdown",
   "metadata": {},
   "source": [
    "5. Escribe una secuencia de instrucciones que permitan leer un número entero es cuadrado perfecto o no (piensa la mejor forma de hacerlo con lo que has aprendido hasta ahora)"
   ]
  },
  {
   "cell_type": "code",
   "execution_count": 5,
   "metadata": {},
   "outputs": [
    {
     "name": "stdout",
     "output_type": "stream",
     "text": [
      "Escribe un número:576\n",
      "El número 576.0 es cuadrado perfecto\n"
     ]
    }
   ],
   "source": [
    "import numpy as np\n",
    "\n",
    "n = float(input('Escribe un número:'))\n",
    "\n",
    "if np.sqrt(n) * np.sqrt(n) == n:\n",
    "    print('El número', n, 'es cuadrado perfecto')\n",
    "else:\n",
    "    print('El número', n, 'no es cuadrado perfecto')"
   ]
  },
  {
   "cell_type": "markdown",
   "metadata": {},
   "source": [
    "6. Escribe una expresión que permita determinar si un número entero positivo puede corresponder a un año bisiesto o no. Se consideran años bisiestos aquellos cuyo número es divisible por cuatro excepto los años que son múltiplos de 100, a no ser que lo sean de 400 (por ejemplo el año 2000 fue bisiesto pero el 2100 no lo será)."
   ]
  },
  {
   "cell_type": "code",
   "execution_count": 10,
   "metadata": {},
   "outputs": [
    {
     "name": "stdout",
     "output_type": "stream",
     "text": [
      "Escribe el año:2021\n",
      "El año 2021 no es bisiesto\n"
     ]
    }
   ],
   "source": [
    "n = int(input('Escribe el año:'))\n",
    "\n",
    "if n%400 == 0:\n",
    "    print('El año', n, 'es bisiesto')\n",
    "elif n%4 == 0 and n%100 != 0:\n",
    "    print('El año', n, 'es bisiesto')\n",
    "else:\n",
    "    print('El año', n, 'no es bisiesto')"
   ]
  },
  {
   "cell_type": "markdown",
   "metadata": {},
   "source": [
    "7. Busca la imagen de un tablero de ajedrez en Google y fíjate en la nomenclatura de las casillas. Escribe una expresión lea una letra y un número de teclado correspondiente a una casilla de un tablero de ajedrez y nos indique si esta casilla es negra o blanca."
   ]
  },
  {
   "cell_type": "code",
   "execution_count": 26,
   "metadata": {},
   "outputs": [
    {
     "name": "stdout",
     "output_type": "stream",
     "text": [
      "Ingrese una letra: g\n",
      "Ingrese un npumero: 3\n"
     ]
    }
   ],
   "source": [
    "l = input('Ingrese una letra: ').upper()\n",
    "n = int(input('Ingrese un npumero: '))\n",
    "\n",
    "L = ['A','B','C','D','E','F','G','H']\n",
    "N = [1,2,3,4,5,6,7,8]\n",
    "\n",
    "for i in range(len(L)):\n",
    "    if l == L[i]:\n",
    "        ln = i\n",
    "\n"
   ]
  }
 ],
 "metadata": {
  "kernelspec": {
   "display_name": "Python 3",
   "language": "python",
   "name": "python3"
  }
 },
 "nbformat": 4,
 "nbformat_minor": 4
}
